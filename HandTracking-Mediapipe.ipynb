{
 "cells": [
  {
   "cell_type": "markdown",
   "id": "4026014b",
   "metadata": {},
   "source": [
    "# Mediapipe Handland marks"
   ]
  },
  {
   "cell_type": "markdown",
   "id": "312b0385",
   "metadata": {},
   "source": [
    "`Install the following libraries`"
   ]
  },
  {
   "cell_type": "code",
   "execution_count": null,
   "id": "7f3ce3a6",
   "metadata": {},
   "outputs": [],
   "source": [
    "!pip install opencv-python\n",
    "!pip install mediapipe"
   ]
  },
  {
   "cell_type": "code",
   "execution_count": null,
   "id": "b0b4d76b",
   "metadata": {},
   "outputs": [],
   "source": [
    "import mediapipe as mp\n",
    "import cv2\n",
    "import time\n"
   ]
  },
  {
   "cell_type": "code",
   "execution_count": null,
   "id": "fce6ccbf",
   "metadata": {},
   "outputs": [],
   "source": [
    "cap=cv2.VideoCapture(0)\n",
    "mpHands=mp.solutions.hands  # formality needed\n",
    "Hands=mpHands.Hands() # object for hand tracking\n",
    "mpDraw=mp.solutions.drawing_utils\n",
    "pTime=0\n",
    "cTime=0"
   ]
  },
  {
   "cell_type": "code",
   "execution_count": null,
   "id": "9894db7a",
   "metadata": {},
   "outputs": [],
   "source": [
    "\n",
    "while True:\n",
    "    ret,img=cap.read()\n",
    "    imgRGB=cv2.cvtColor(img,cv2.COLOR_BGR2RGB)\n",
    "    results=Hands.process(imgRGB)\n",
    "    # print(results.multi_hand_landmarks)\n",
    "    if results.multi_hand_landmarks:\n",
    "        for handlms in results.multi_hand_landmarks:\n",
    "            for id,lm in enumerate(handlms.landmark):\n",
    "                # print(id,lm)\n",
    "                h, w, c =img.shape\n",
    "                cx,cy=int(lm.x*w) , int(lm.y*h)\n",
    "                print((id,cx,cy))\n",
    "                # if id==4:\n",
    "                cv2.circle(img,(cx,cy),25,(255,100,255),5)\n",
    "            mpDraw.draw_landmarks(img,handlms,mpHands.HAND_CONNECTIONS)\n",
    "    cTime = time.time()\n",
    "    fps=1/(cTime-pTime)\n",
    "    pTime=cTime\n",
    "    cv2.putText(img,str(int(fps)),(10,70),cv2.FONT_HERSHEY_SIMPLEX,3,(255,0,255),3)\n",
    "    cv2.imshow(\"Image\",img)\n",
    "    cv2.waitKey(1)"
   ]
  },
  {
   "cell_type": "code",
   "execution_count": null,
   "id": "01853c83",
   "metadata": {},
   "outputs": [],
   "source": []
  },
  {
   "cell_type": "code",
   "execution_count": null,
   "id": "f882a9d9",
   "metadata": {},
   "outputs": [],
   "source": []
  }
 ],
 "metadata": {
  "kernelspec": {
   "display_name": "Python 3 (ipykernel)",
   "language": "python",
   "name": "python3"
  },
  "language_info": {
   "codemirror_mode": {
    "name": "ipython",
    "version": 3
   },
   "file_extension": ".py",
   "mimetype": "text/x-python",
   "name": "python",
   "nbconvert_exporter": "python",
   "pygments_lexer": "ipython3",
   "version": "3.8.13"
  }
 },
 "nbformat": 4,
 "nbformat_minor": 5
}
